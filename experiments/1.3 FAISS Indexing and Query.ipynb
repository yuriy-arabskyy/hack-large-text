{
 "cells": [
  {
   "cell_type": "markdown",
   "metadata": {},
   "source": [
    "# FAISS Indexing and Query\n",
    "\n",
    "This notebook ingests the embeddings from workspace_with_embeddings.json into a FAISS index and demonstrates semantic search."
   ]
  },
  {
   "cell_type": "code",
   "execution_count": 1,
   "metadata": {},
   "outputs": [
    {
     "name": "stderr",
     "output_type": "stream",
     "text": [
      "/Users/yuriyarabskyy/Library/Caches/pypoetry/virtualenvs/hack-large-text-ASlkIg2G-py3.12/lib/python3.12/site-packages/tqdm/auto.py:21: TqdmWarning: IProgress not found. Please update jupyter and ipywidgets. See https://ipywidgets.readthedocs.io/en/stable/user_install.html\n",
      "  from .autonotebook import tqdm as notebook_tqdm\n"
     ]
    }
   ],
   "source": [
    "import json\n",
    "import numpy as np\n",
    "import faiss\n",
    "from sentence_transformers import SentenceTransformer\n",
    "from typing import List, Dict, Tuple"
   ]
  },
  {
   "cell_type": "code",
   "execution_count": 2,
   "metadata": {},
   "outputs": [
    {
     "name": "stdout",
     "output_type": "stream",
     "text": [
      "Document ID: chess_pdf\n",
      "Number of pages: 95\n",
      "Number of blocks: 1943\n"
     ]
    }
   ],
   "source": [
    "# Load the workspace with embeddings\n",
    "with open('workspace_with_embeddings.json', 'r') as f:\n",
    "    workspace_data = json.load(f)\n",
    "\n",
    "print(f\"Document ID: {workspace_data['doc_id']}\")\n",
    "print(f\"Number of pages: {workspace_data['num_pages']}\")\n",
    "print(f\"Number of blocks: {len(workspace_data['blocks'])}\")"
   ]
  },
  {
   "cell_type": "code",
   "execution_count": 3,
   "metadata": {},
   "outputs": [
    {
     "name": "stdout",
     "output_type": "stream",
     "text": [
      "Blocks with valid embeddings: 1941\n",
      "Embedding dimension: 384\n"
     ]
    }
   ],
   "source": [
    "# Extract embeddings and metadata\n",
    "embeddings = []\n",
    "valid_blocks = []\n",
    "\n",
    "for block in workspace_data['blocks']:\n",
    "    if block.get('embedding') is not None:\n",
    "        embeddings.append(block['embedding'])\n",
    "        valid_blocks.append(block)\n",
    "\n",
    "print(f\"Blocks with valid embeddings: {len(embeddings)}\")\n",
    "print(f\"Embedding dimension: {len(embeddings[0])}\")"
   ]
  },
  {
   "cell_type": "code",
   "execution_count": 4,
   "metadata": {},
   "outputs": [
    {
     "name": "stdout",
     "output_type": "stream",
     "text": [
      "Embeddings array shape: (1941, 384)\n"
     ]
    }
   ],
   "source": [
    "# Convert embeddings to numpy array\n",
    "embeddings_array = np.array(embeddings, dtype='float32')\n",
    "print(f\"Embeddings array shape: {embeddings_array.shape}\")"
   ]
  },
  {
   "cell_type": "code",
   "execution_count": 5,
   "metadata": {},
   "outputs": [
    {
     "name": "stdout",
     "output_type": "stream",
     "text": [
      "FAISS index created with 1941 vectors\n"
     ]
    }
   ],
   "source": [
    "# Create FAISS index\n",
    "dimension = embeddings_array.shape[1]\n",
    "\n",
    "# Using L2 (Euclidean) distance for similarity\n",
    "# Alternative: faiss.IndexFlatIP for inner product (cosine similarity with normalized vectors)\n",
    "index = faiss.IndexFlatL2(dimension)\n",
    "\n",
    "# Normalize embeddings for cosine similarity\n",
    "faiss.normalize_L2(embeddings_array)\n",
    "\n",
    "# Add vectors to the index\n",
    "index.add(embeddings_array)\n",
    "\n",
    "print(f\"FAISS index created with {index.ntotal} vectors\")"
   ]
  },
  {
   "cell_type": "code",
   "execution_count": 7,
   "metadata": {},
   "outputs": [
    {
     "name": "stdout",
     "output_type": "stream",
     "text": [
      "Model loaded: SentenceTransformer(\n",
      "  (0): Transformer({'max_seq_length': 256, 'do_lower_case': False, 'architecture': 'BertModel'})\n",
      "  (1): Pooling({'word_embedding_dimension': 384, 'pooling_mode_cls_token': False, 'pooling_mode_mean_tokens': True, 'pooling_mode_max_tokens': False, 'pooling_mode_mean_sqrt_len_tokens': False, 'pooling_mode_weightedmean_tokens': False, 'pooling_mode_lasttoken': False, 'include_prompt': True})\n",
      "  (2): Normalize()\n",
      ")\n"
     ]
    }
   ],
   "source": [
    "# Load the same model used for creating embeddings\n",
    "model = SentenceTransformer('all-MiniLM-L6-v2')\n",
    "print(f\"Model loaded: {model}\")"
   ]
  },
  {
   "cell_type": "code",
   "execution_count": 8,
   "metadata": {},
   "outputs": [],
   "source": [
    "def search_documents(query: str, k: int = 5) -> List[Tuple[Dict, float]]:\n",
    "    \"\"\"\n",
    "    Search for the top-k most similar documents to the query.\n",
    "    \n",
    "    Args:\n",
    "        query: Search query text\n",
    "        k: Number of results to return\n",
    "    \n",
    "    Returns:\n",
    "        List of tuples (block, distance) sorted by similarity\n",
    "    \"\"\"\n",
    "    # Encode the query\n",
    "    query_embedding = model.encode([query], convert_to_numpy=True)\n",
    "    query_embedding = query_embedding.astype('float32')\n",
    "    \n",
    "    # Normalize for cosine similarity\n",
    "    faiss.normalize_L2(query_embedding)\n",
    "    \n",
    "    # Search the index\n",
    "    distances, indices = index.search(query_embedding, k)\n",
    "    \n",
    "    # Retrieve matching blocks\n",
    "    results = []\n",
    "    for idx, distance in zip(indices[0], distances[0]):\n",
    "        block = valid_blocks[idx]\n",
    "        results.append((block, distance))\n",
    "    \n",
    "    return results"
   ]
  },
  {
   "cell_type": "code",
   "execution_count": 9,
   "metadata": {},
   "outputs": [],
   "source": [
    "def display_results(results: List[Tuple[Dict, float]]):\n",
    "    \"\"\"\n",
    "    Display search results in a readable format.\n",
    "    \"\"\"\n",
    "    for i, (block, distance) in enumerate(results, 1):\n",
    "        similarity_score = 1 - distance  # Convert L2 distance to similarity (0-1)\n",
    "        print(f\"\\n{'='*80}\")\n",
    "        print(f\"Result #{i} (Similarity: {similarity_score:.4f})\")\n",
    "        print(f\"{'='*80}\")\n",
    "        print(f\"Page: {block['page_num']}\")\n",
    "        print(f\"Block Index: {block['block_idx']}\")\n",
    "        print(f\"Type: {block['type']}\")\n",
    "        if block.get('section_path'):\n",
    "            print(f\"Section: {block['section_path']}\")\n",
    "        print(f\"\\nText:\\n{block['text']}\")\n",
    "        print(f\"\\nCharacter Count: {block['char_count']}\")"
   ]
  },
  {
   "cell_type": "code",
   "execution_count": 10,
   "metadata": {},
   "outputs": [
    {
     "name": "stdout",
     "output_type": "stream",
     "text": [
      "Query: How should I start a chess game? What are good opening moves?\n",
      "\n",
      "\n",
      "================================================================================\n",
      "Result #1 (Similarity: 0.1230)\n",
      "================================================================================\n",
      "Page: 0\n",
      "Block Index: 9\n",
      "Type: h1\n",
      "Section: CHESS FUNDAMENTALS\n",
      "\n",
      "Text:\n",
      "CHESS FUNDAMENTALS\n",
      "\n",
      "Character Count: 18\n",
      "\n",
      "================================================================================\n",
      "Result #2 (Similarity: 0.1230)\n",
      "================================================================================\n",
      "Page: 3\n",
      "Block Index: 19\n",
      "Type: h1\n",
      "Section: CHESS FUNDAMENTALS\n",
      "\n",
      "Text:\n",
      "CHESS FUNDAMENTALS\n",
      "\n",
      "Character Count: 18\n",
      "\n",
      "================================================================================\n",
      "Result #3 (Similarity: 0.1144)\n",
      "================================================================================\n",
      "Page: 12\n",
      "Block Index: 6\n",
      "Type: body\n",
      "Section: EXAMPLE 13. > 7. B - Kt 5\n",
      "\n",
      "Text:\n",
      "First, the complete development of the opening has taken only seven moves. (This varies up to ten or twelve moves in some very exceptional cases. As a rule, eight should be enough.) Second, Black has {28} been compelled to exchange a Bishop for a Knight, but as a compensation he has isolated White's Q R P and doubled a Pawn. (This, at such an early stage of the game, is rather an advantage for White, as the Pawn is doubled towards the centre of the board.) Third, White by the exchange brings up a Pawn to control the square Q 4, puts Black on the defensive, as experience will show, and thus keeps _the initiative_, an unquestionable advantage.[1]\n",
      "\n",
      "Character Count: 652\n",
      "\n",
      "================================================================================\n",
      "Result #4 (Similarity: 0.0961)\n",
      "================================================================================\n",
      "Page: 11\n",
      "Block Index: 7\n",
      "Type: h2\n",
      "Section: EXAMPLE 13. > 6. GENERAL STRATEGY OF THE OPENING\n",
      "\n",
      "Text:\n",
      "6. GENERAL STRATEGY OF THE OPENING\n",
      "\n",
      "Character Count: 34\n",
      "\n",
      "================================================================================\n",
      "Result #5 (Similarity: 0.0814)\n",
      "================================================================================\n",
      "Page: 52\n",
      "Block Index: 7\n",
      "Type: body\n",
      "Section: FURTHER OPENINGS AND MIDDLE-GAMES > 31. SOME SALIENT POINTS ABOUT PAWNS\n",
      "\n",
      "Text:\n",
      "Before going back to the discussion of openings and middle-game positions, it might be well to bear in mind a few facts concerning Pawn positions which will no doubt help to understand certain moves, and sometimes even the object of certain variations in the openings, and of some manoeuvres in the middle-games.\n",
      "\n",
      "Character Count: 312\n"
     ]
    }
   ],
   "source": [
    "# Example Query 1: Search for opening moves\n",
    "query1 = \"How should I start a chess game? What are good opening moves?\"\n",
    "print(f\"Query: {query1}\\n\")\n",
    "\n",
    "results1 = search_documents(query1, k=5)\n",
    "display_results(results1)"
   ]
  },
  {
   "cell_type": "code",
   "execution_count": 11,
   "metadata": {},
   "outputs": [
    {
     "name": "stdout",
     "output_type": "stream",
     "text": [
      "Query: What are the key principles in chess endgame?\n",
      "\n",
      "\n",
      "================================================================================\n",
      "Result #1 (Similarity: 0.5253)\n",
      "================================================================================\n",
      "Page: 1\n",
      "Block Index: 23\n",
      "Type: h1\n",
      "Section: FURTHER PRINCIPLES IN END-GAME PLAY\n",
      "\n",
      "Text:\n",
      "FURTHER PRINCIPLES IN END-GAME PLAY\n",
      "\n",
      "Character Count: 35\n",
      "\n",
      "================================================================================\n",
      "Result #2 (Similarity: 0.5253)\n",
      "================================================================================\n",
      "Page: 15\n",
      "Block Index: 0\n",
      "Type: h1\n",
      "Section: FURTHER PRINCIPLES IN END-GAME PLAY\n",
      "\n",
      "Text:\n",
      "FURTHER PRINCIPLES IN END-GAME PLAY\n",
      "\n",
      "Character Count: 35\n",
      "\n",
      "================================================================================\n",
      "Result #3 (Similarity: 0.3934)\n",
      "================================================================================\n",
      "Page: 0\n",
      "Block Index: 9\n",
      "Type: h1\n",
      "Section: CHESS FUNDAMENTALS\n",
      "\n",
      "Text:\n",
      "CHESS FUNDAMENTALS\n",
      "\n",
      "Character Count: 18\n",
      "\n",
      "================================================================================\n",
      "Result #4 (Similarity: 0.3934)\n",
      "================================================================================\n",
      "Page: 3\n",
      "Block Index: 19\n",
      "Type: h1\n",
      "Section: CHESS FUNDAMENTALS\n",
      "\n",
      "Text:\n",
      "CHESS FUNDAMENTALS\n",
      "\n",
      "Character Count: 18\n",
      "\n",
      "================================================================================\n",
      "Result #5 (Similarity: 0.3357)\n",
      "================================================================================\n",
      "Page: 2\n",
      "Block Index: 21\n",
      "Type: h1\n",
      "Section: END-GAME STRATEGY\n",
      "\n",
      "Text:\n",
      "END-GAME STRATEGY\n",
      "\n",
      "Character Count: 17\n"
     ]
    }
   ],
   "source": [
    "# Example Query 2: Search for endgame strategy\n",
    "query2 = \"What are the key principles in chess endgame?\"\n",
    "print(f\"Query: {query2}\\n\")\n",
    "\n",
    "results2 = search_documents(query2, k=5)\n",
    "display_results(results2)"
   ]
  },
  {
   "cell_type": "code",
   "execution_count": 12,
   "metadata": {},
   "outputs": [
    {
     "name": "stdout",
     "output_type": "stream",
     "text": [
      "Query: Tell me about pawn structure and pawn advantages\n",
      "\n",
      "\n",
      "================================================================================\n",
      "Result #1 (Similarity: 0.2238)\n",
      "================================================================================\n",
      "Page: 5\n",
      "Block Index: 11\n",
      "Type: body\n",
      "Section: 2...K - B 1; 3 K - B 3, K - K 1; 4 K - K 4, K - Q 1; 5 K - Q 5, K - B 1; 6 K - Q 6. > 2. PAWN PROMOTION\n",
      "\n",
      "Text:\n",
      "The gain of a Pawn is the smallest material advantage that can be obtained in a game; and it often is sufficient to win, even when the Pawn is the only remaining unit, apart from the Kings. It is essential, speaking generally, that\n",
      "\n",
      "Character Count: 231\n",
      "\n",
      "================================================================================\n",
      "Result #2 (Similarity: 0.2109)\n",
      "================================================================================\n",
      "Page: 52\n",
      "Block Index: 6\n",
      "Type: h2\n",
      "Section: FURTHER OPENINGS AND MIDDLE-GAMES > 31. SOME SALIENT POINTS ABOUT PAWNS\n",
      "\n",
      "Text:\n",
      "31. SOME SALIENT POINTS ABOUT PAWNS\n",
      "\n",
      "Character Count: 35\n",
      "\n",
      "================================================================================\n",
      "Result #3 (Similarity: 0.1843)\n",
      "================================================================================\n",
      "Page: 27\n",
      "Block Index: 0\n",
      "Type: body\n",
      "Section: PLANNING A WIN IN MIDDLE-GAME PLAY > 19. WINNING BY INDIRECT ATTACK\n",
      "\n",
      "Text:\n",
      "Pawns.\n",
      "\n",
      "Character Count: 6\n",
      "\n",
      "================================================================================\n",
      "Result #4 (Similarity: 0.1843)\n",
      "================================================================================\n",
      "Page: 89\n",
      "Block Index: 0\n",
      "Type: body\n",
      "Section: GAME 14. QUEEN'S GAMBIT DECLINED > 32. P - Kt 4               R - R 3        33. P - B 3\n",
      "\n",
      "Text:\n",
      "Pawns.\n",
      "\n",
      "Character Count: 6\n",
      "\n",
      "================================================================================\n",
      "Result #5 (Similarity: 0.1582)\n",
      "================================================================================\n",
      "Page: 5\n",
      "Block Index: 10\n",
      "Type: h2\n",
      "Section: 2...K - B 1; 3 K - B 3, K - K 1; 4 K - K 4, K - Q 1; 5 K - Q 5, K - B 1; 6 K - Q 6. > 2. PAWN PROMOTION\n",
      "\n",
      "Text:\n",
      "2. PAWN PROMOTION\n",
      "\n",
      "Character Count: 17\n"
     ]
    }
   ],
   "source": [
    "# Example Query 3: Search for pawn structure\n",
    "query3 = \"Tell me about pawn structure and pawn advantages\"\n",
    "print(f\"Query: {query3}\\n\")\n",
    "\n",
    "results3 = search_documents(query3, k=5)\n",
    "display_results(results3)"
   ]
  },
  {
   "cell_type": "code",
   "execution_count": 13,
   "metadata": {},
   "outputs": [
    {
     "name": "stdout",
     "output_type": "stream",
     "text": [
      "FAISS index saved to chess_pdf.faiss\n"
     ]
    }
   ],
   "source": [
    "# Save the FAISS index for later use\n",
    "faiss.write_index(index, 'chess_pdf.faiss')\n",
    "print(\"FAISS index saved to chess_pdf.faiss\")"
   ]
  },
  {
   "cell_type": "code",
   "execution_count": null,
   "metadata": {},
   "outputs": [],
   "source": [
    "# Optional: Load the index later\n",
    "# loaded_index = faiss.read_index('chess_pdf.faiss')\n",
    "# print(f\"Loaded index with {loaded_index.ntotal} vectors\")"
   ]
  },
  {
   "cell_type": "markdown",
   "metadata": {},
   "source": [
    "## Statistics and Analysis"
   ]
  },
  {
   "cell_type": "code",
   "execution_count": 14,
   "metadata": {},
   "outputs": [
    {
     "name": "stdout",
     "output_type": "stream",
     "text": [
      "Block distribution by type:\n",
      "  body: 1039\n",
      "  h2: 422\n",
      "  skip: 408\n",
      "  h1: 66\n",
      "  h3: 6\n",
      "\n",
      "Average blocks per page: 20.43\n",
      "Max blocks on a page: 34\n",
      "Min blocks on a page: 8\n"
     ]
    }
   ],
   "source": [
    "# Analyze blocks by type\n",
    "from collections import Counter\n",
    "\n",
    "block_types = Counter(block['type'] for block in valid_blocks)\n",
    "print(\"Block distribution by type:\")\n",
    "for block_type, count in block_types.most_common():\n",
    "    print(f\"  {block_type}: {count}\")\n",
    "\n",
    "# Analyze blocks by page\n",
    "blocks_per_page = Counter(block['page_num'] for block in valid_blocks)\n",
    "print(f\"\\nAverage blocks per page: {np.mean(list(blocks_per_page.values())):.2f}\")\n",
    "print(f\"Max blocks on a page: {max(blocks_per_page.values())}\")\n",
    "print(f\"Min blocks on a page: {min(blocks_per_page.values())}\")"
   ]
  },
  {
   "cell_type": "code",
   "execution_count": null,
   "metadata": {},
   "outputs": [],
   "source": []
  }
 ],
 "metadata": {
  "kernelspec": {
   "display_name": "hack-large-text-ASlkIg2G-py3.12",
   "language": "python",
   "name": "python3"
  },
  "language_info": {
   "codemirror_mode": {
    "name": "ipython",
    "version": 3
   },
   "file_extension": ".py",
   "mimetype": "text/x-python",
   "name": "python",
   "nbconvert_exporter": "python",
   "pygments_lexer": "ipython3",
   "version": "3.12.11"
  }
 },
 "nbformat": 4,
 "nbformat_minor": 4
}
