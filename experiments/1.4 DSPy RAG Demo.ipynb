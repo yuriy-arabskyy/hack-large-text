{
 "cells": [
  {
   "cell_type": "markdown",
   "metadata": {},
   "source": [
    "# DSPy RAG Agent Demo\n",
    "\n",
    "This notebook demonstrates how to use the DSPy-based RAG agent with FAISS retrieval to answer questions about the Chess Fundamentals PDF."
   ]
  },
  {
   "cell_type": "code",
   "execution_count": 1,
   "metadata": {},
   "outputs": [
    {
     "name": "stderr",
     "output_type": "stream",
     "text": [
      "/Users/yuriyarabskyy/Library/Caches/pypoetry/virtualenvs/hack-large-text-ASlkIg2G-py3.12/lib/python3.12/site-packages/tqdm/auto.py:21: TqdmWarning: IProgress not found. Please update jupyter and ipywidgets. See https://ipywidgets.readthedocs.io/en/stable/user_install.html\n",
      "  from .autonotebook import tqdm as notebook_tqdm\n"
     ]
    }
   ],
   "source": [
    "import os\n",
    "import sys\n",
    "import dspy\n",
    "from dotenv import load_dotenv\n",
    "\n",
    "# Add src to path so we can import hack module\n",
    "# sys.path.insert(0, os.path.abspath('../src'))\n",
    "\n",
    "from hack.rag_agent import create_agent"
   ]
  },
  {
   "cell_type": "code",
   "execution_count": 2,
   "metadata": {},
   "outputs": [
    {
     "name": "stdout",
     "output_type": "stream",
     "text": [
      "✓ API key loaded\n"
     ]
    }
   ],
   "source": [
    "# Load environment variables\n",
    "load_dotenv()\n",
    "openai_api_key = os.getenv(\"OPENAI_API_KEY\")\n",
    "\n",
    "if not openai_api_key:\n",
    "    raise ValueError(\"OPENAI_API_KEY not found in .env file\")\n",
    "\n",
    "print(\"✓ API key loaded\")"
   ]
  },
  {
   "cell_type": "code",
   "execution_count": 3,
   "metadata": {},
   "outputs": [
    {
     "name": "stdout",
     "output_type": "stream",
     "text": [
      "✓ DSPy configured with OpenAI GPT-4o-mini\n"
     ]
    }
   ],
   "source": [
    "# Configure DSPy with OpenAI\n",
    "lm = dspy.LM(model=\"openai/gpt-4o-mini\", api_key=openai_api_key)\n",
    "dspy.configure(lm=lm)\n",
    "\n",
    "print(\"✓ DSPy configured with OpenAI GPT-4o-mini\")"
   ]
  },
  {
   "cell_type": "code",
   "execution_count": 4,
   "metadata": {},
   "outputs": [
    {
     "name": "stdout",
     "output_type": "stream",
     "text": [
      "Initializing agent with FAISS retriever...\n",
      "Loaded FAISS index with 1941 vectors\n",
      "Loaded 1941 blocks from workspace\n",
      "✓ Agent initialized\n"
     ]
    }
   ],
   "source": [
    "# Initialize the agent with FAISS retriever\n",
    "print(\"Initializing agent with FAISS retriever...\")\n",
    "agent = create_agent(\n",
    "    faiss_index_path=\"chess_pdf.faiss\",\n",
    "    workspace_json_path=\"workspace_with_embeddings.json\"\n",
    ")\n",
    "print(\"✓ Agent initialized\")"
   ]
  },
  {
   "cell_type": "markdown",
   "metadata": {},
   "source": [
    "## Example 1: Opening Strategy"
   ]
  },
  {
   "cell_type": "code",
   "execution_count": 5,
   "metadata": {},
   "outputs": [
    {
     "name": "stderr",
     "output_type": "stream",
     "text": [
      "2025/10/02 14:34:34 WARNING dspy.primitives.module: Calling module.forward(...) on WorkspaceAgent directly is discouraged. Please use module(...) instead.\n"
     ]
    },
    {
     "name": "stdout",
     "output_type": "stream",
     "text": [
      "Question: What are the key principles for opening moves in chess?\n",
      "\n",
      "Answer:\n",
      "The key principles for opening moves in chess include the importance of developing pieces over advancing pawns, particularly in the early stages of the game. Beginners often make the mistake of prioritizing pawn moves, such as moving the pawns to the rook's third rank, which can hinder their overall development. Instead, players should focus on controlling the center of the board, developing knights and bishops, and ensuring king safety through castling. Understanding pawn structures can also provide insights into effective opening strategies and transitions into the middle game.\n",
      "\n",
      "Citations:\n",
      "[\n",
      "    {\n",
      "        \"page\": 52,\n",
      "        \"section\": \"FURTHER OPENINGS AND MIDDLE-GAMES > 31. SOME SALIENT POINTS ABOUT PAWNS\",\n",
      "        \"text\": \"Before going back to the discussion of openings and middle-game positions, it might be well to bear in mind a few facts concerning Pawn positions which will no doubt help to understand certain moves.\"\n",
      "    },\n",
      "    {\n",
      "        \"page\": 14,\n",
      "        \"section\": \"EXAMPLE 19. > 5. Q x B                  P x P         6. B - Q B 4              Q - B 3\",\n",
      "        \"text\": \"The student is warned against playing Pawns in preference to pieces at the beginning of the game, especially P - K R 3 and P - Q R 3.\"\n",
      "    }\n",
      "]\n"
     ]
    }
   ],
   "source": [
    "question1 = \"What are the key principles for opening moves in chess?\"\n",
    "print(f\"Question: {question1}\\n\")\n",
    "\n",
    "result1 = agent.forward(question1)\n",
    "\n",
    "print(\"Answer:\")\n",
    "print(result1[\"answer\"])\n",
    "print(\"\\nCitations:\")\n",
    "print(result1[\"citations\"])"
   ]
  },
  {
   "cell_type": "markdown",
   "metadata": {},
   "source": [
    "## Example 2: Endgame Strategy"
   ]
  },
  {
   "cell_type": "code",
   "execution_count": 11,
   "metadata": {},
   "outputs": [
    {
     "name": "stderr",
     "output_type": "stream",
     "text": [
      "2025/10/02 14:54:48 WARNING dspy.primitives.module: Calling module.forward(...) on WorkspaceAgent directly is discouraged. Please use module(...) instead.\n"
     ]
    },
    {
     "name": "stdout",
     "output_type": "stream",
     "text": [
      "Question: How should I approach the endgame in chess?\n",
      "\n",
      "Answer:\n",
      "To approach the endgame in chess effectively, it's essential to focus on a few key principles. First, understanding the specific endgame scenarios, such as those involving two rooks and pawns, can significantly enhance your strategy. Studying master games that feature these endings will provide valuable insights into the proper methods to employ in similar situations. \n",
      "\n",
      "Additionally, it's crucial to apply general endgame principles, such as activating your king, promoting pawns, and coordinating your pieces effectively. The endgame often requires precise calculation and an understanding of the fundamental concepts of piece activity and pawn structure. By practicing these strategies and analyzing various endgame positions, you can improve your overall endgame play and increase your chances of success.\n",
      "\n",
      "Citations:\n",
      "[\n",
      "    {\"page\": 46, \"section\": \"EXAMPLE 59\", \"text\": \"Following our idea that the best way to learn endings as well as openings is to study the games of the masters.\"},\n",
      "    {\"page\": 1, \"section\": \"FURTHER PRINCIPLES IN END-GAME PLAY\", \"text\": \"FURTHER PRINCIPLES IN END-GAME PLAY\"},\n",
      "    {\"page\": 2, \"section\": \"END-GAME STRATEGY\", \"text\": \"END-GAME STRATEGY\"}\n",
      "]\n"
     ]
    }
   ],
   "source": [
    "question2 = \"How should I approach the endgame in chess?\"\n",
    "print(f\"Question: {question2}\\n\")\n",
    "\n",
    "result2 = agent.forward(question2)\n",
    "\n",
    "print(\"Answer:\")\n",
    "print(result2[\"answer\"])\n",
    "print(\"\\nCitations:\")\n",
    "print(result2[\"citations\"])"
   ]
  },
  {
   "cell_type": "code",
   "execution_count": 10,
   "metadata": {},
   "outputs": [
    {
     "data": {
      "text/plain": [
       "{'answer': \"To approach the endgame in chess effectively, it's essential to focus on a few key principles. First, understanding the specific endgame scenarios, such as those involving two rooks and pawns, can significantly enhance your strategy. Studying master games that feature these endings will provide valuable insights into the proper methods to employ in similar situations. \\n\\nAdditionally, it's crucial to apply general endgame principles, such as activating your king, promoting pawns, and coordinating your pieces effectively. The endgame often requires precise calculation and an understanding of the fundamental concepts of piece activity and pawn structure. By practicing these strategies and analyzing various endgame positions, you can improve your overall endgame play and increase your chances of success.\",\n",
       " 'citations': '[\\n    {\"page\": 46, \"section\": \"EXAMPLE 59\", \"text\": \"Following our idea that the best way to learn endings as well as openings is to study the games of the masters.\"},\\n    {\"page\": 1, \"section\": \"FURTHER PRINCIPLES IN END-GAME PLAY\", \"text\": \"FURTHER PRINCIPLES IN END-GAME PLAY\"},\\n    {\"page\": 2, \"section\": \"END-GAME STRATEGY\", \"text\": \"END-GAME STRATEGY\"}\\n]'}"
      ]
     },
     "execution_count": 10,
     "metadata": {},
     "output_type": "execute_result"
    }
   ],
   "source": [
    "result2"
   ]
  },
  {
   "cell_type": "markdown",
   "metadata": {},
   "source": [
    "## Example 3: Pawn Structure"
   ]
  },
  {
   "cell_type": "code",
   "execution_count": null,
   "metadata": {},
   "outputs": [],
   "source": [
    "question3 = \"What is the importance of pawn structure in chess?\"\n",
    "print(f\"Question: {question3}\\n\")\n",
    "\n",
    "result3 = agent.forward(question3)\n",
    "\n",
    "print(\"Answer:\")\n",
    "print(result3[\"answer\"])\n",
    "print(\"\\nCitations:\")\n",
    "print(result3[\"citations\"])"
   ]
  },
  {
   "cell_type": "markdown",
   "metadata": {},
   "source": [
    "## Example 4: Specific Tactical Question"
   ]
  },
  {
   "cell_type": "code",
   "execution_count": null,
   "metadata": {},
   "outputs": [],
   "source": [
    "question4 = \"What does Capablanca say about the value of pieces?\"\n",
    "print(f\"Question: {question4}\\n\")\n",
    "\n",
    "result4 = agent.forward(question4)\n",
    "\n",
    "print(\"Answer:\")\n",
    "print(result4[\"answer\"])\n",
    "print(\"\\nCitations:\")\n",
    "print(result4[\"citations\"])"
   ]
  },
  {
   "cell_type": "markdown",
   "metadata": {},
   "source": [
    "## Example 5: Custom Question\n",
    "\n",
    "Try your own question!"
   ]
  },
  {
   "cell_type": "code",
   "execution_count": null,
   "metadata": {},
   "outputs": [],
   "source": [
    "# Your custom question here\n",
    "custom_question = \"How do I develop my pieces effectively?\"\n",
    "print(f\"Question: {custom_question}\\n\")\n",
    "\n",
    "custom_result = agent.forward(custom_question)\n",
    "\n",
    "print(\"Answer:\")\n",
    "print(custom_result[\"answer\"])\n",
    "print(\"\\nCitations:\")\n",
    "print(custom_result[\"citations\"])"
   ]
  },
  {
   "cell_type": "markdown",
   "metadata": {},
   "source": [
    "## Inspecting the RAG Pipeline\n",
    "\n",
    "Let's look at what happens behind the scenes in the agent's forward pass."
   ]
  },
  {
   "cell_type": "code",
   "execution_count": null,
   "metadata": {},
   "outputs": [],
   "source": [
    "# Test the retriever directly\n",
    "from hack.retriever import FaissRetriever\n",
    "\n",
    "retriever = FaissRetriever(\n",
    "    faiss_index_path=\"chess_pdf.faiss\",\n",
    "    workspace_json_path=\"workspace_with_embeddings.json\"\n",
    ")\n",
    "\n",
    "# Search for relevant passages\n",
    "search_query = \"tactics and strategy\"\n",
    "results = retriever.search_text(search_query, k=3)\n",
    "\n",
    "print(f\"Search query: '{search_query}'\\n\")\n",
    "print(f\"Found {len(results)} results:\\n\")\n",
    "\n",
    "for i, result in enumerate(results, 1):\n",
    "    print(f\"Result {i}:\")\n",
    "    print(f\"  Page: {result['page']}\")\n",
    "    print(f\"  Similarity: {result['similarity']:.4f}\")\n",
    "    print(f\"  Text: {result['content'][:200]}...\")\n",
    "    print()"
   ]
  },
  {
   "cell_type": "markdown",
   "metadata": {},
   "source": [
    "## Understanding the Agent Architecture\n",
    "\n",
    "The RAG agent uses a 3-step pipeline:\n",
    "\n",
    "1. **Query Understanding** - Expands the question into search terms\n",
    "2. **Retrieval** - Searches FAISS index for relevant passages\n",
    "3. **Evidence Selection** - Selects the most relevant evidence\n",
    "4. **Answer Synthesis** - Generates answer with citations\n",
    "\n",
    "Each step uses DSPy signatures and the LM to process information."
   ]
  },
  {
   "cell_type": "code",
   "execution_count": null,
   "metadata": {},
   "outputs": [],
   "source": [
    "# Let's test just the query understanding step\n",
    "from hack.models.rag_models import QueryUnderstanding\n",
    "\n",
    "understand = dspy.Predict(QueryUnderstanding)\n",
    "q_resp = understand(question=\"What are common chess mistakes beginners make?\")\n",
    "\n",
    "print(\"Query Understanding:\")\n",
    "print(f\"  Original question: What are common chess mistakes beginners make?\")\n",
    "print(f\"  Search terms: {q_resp.search_terms}\")\n",
    "print(f\"  Search plan: {q_resp.search_plan}\")"
   ]
  },
  {
   "cell_type": "markdown",
   "metadata": {},
   "source": [
    "## Interactive Q&A Session\n",
    "\n",
    "Run this cell multiple times with different questions!"
   ]
  },
  {
   "cell_type": "code",
   "execution_count": null,
   "metadata": {},
   "outputs": [],
   "source": [
    "def ask_question(question: str):\n",
    "    \"\"\"Helper function to ask a question and display results nicely.\"\"\"\n",
    "    print(f\"\\n{'='*80}\")\n",
    "    print(f\"Q: {question}\")\n",
    "    print(f\"{'='*80}\\n\")\n",
    "    \n",
    "    result = agent.forward(question)\n",
    "    \n",
    "    print(\"Answer:\")\n",
    "    print(result[\"answer\"])\n",
    "    print(\"\\n\" + \"-\"*80)\n",
    "    print(\"Citations:\")\n",
    "    print(result[\"citations\"])\n",
    "    print(\"=\"*80)\n",
    "    \n",
    "    return result\n",
    "\n",
    "# Try it out!\n",
    "ask_question(\"What does Capablanca teach about rook endgames?\")"
   ]
  },
  {
   "cell_type": "markdown",
   "metadata": {},
   "source": [
    "## Performance Analysis"
   ]
  },
  {
   "cell_type": "code",
   "execution_count": null,
   "metadata": {},
   "outputs": [],
   "source": [
    "import time\n",
    "\n",
    "# Measure query time\n",
    "test_question = \"How do I checkmate with a queen and king?\"\n",
    "\n",
    "start = time.time()\n",
    "result = agent.forward(test_question)\n",
    "end = time.time()\n",
    "\n",
    "print(f\"Question: {test_question}\")\n",
    "print(f\"\\nTime taken: {end - start:.2f} seconds\")\n",
    "print(f\"\\nAnswer: {result['answer'][:200]}...\")"
   ]
  },
  {
   "cell_type": "markdown",
   "metadata": {},
   "source": [
    "## Summary\n",
    "\n",
    "This notebook demonstrated:\n",
    "- Setting up the DSPy RAG agent with FAISS retrieval\n",
    "- Asking various chess-related questions\n",
    "- Getting answers with citations\n",
    "- Inspecting the retrieval pipeline\n",
    "- Understanding the agent architecture\n",
    "\n",
    "The agent successfully retrieves relevant passages from the Chess Fundamentals PDF and synthesizes answers with proper citations!"
   ]
  }
 ],
 "metadata": {
  "kernelspec": {
   "display_name": "hack-large-text-ASlkIg2G-py3.12",
   "language": "python",
   "name": "python3"
  },
  "language_info": {
   "codemirror_mode": {
    "name": "ipython",
    "version": 3
   },
   "file_extension": ".py",
   "mimetype": "text/x-python",
   "name": "python",
   "nbconvert_exporter": "python",
   "pygments_lexer": "ipython3",
   "version": "3.12.11"
  }
 },
 "nbformat": 4,
 "nbformat_minor": 4
}
