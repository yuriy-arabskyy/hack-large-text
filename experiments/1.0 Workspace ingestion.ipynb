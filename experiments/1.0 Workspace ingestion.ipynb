{
 "cells": [
  {
   "cell_type": "markdown",
   "metadata": {},
   "source": [
    "# Workspace Ingestion - PDF Parsing Experiments\n",
    "\n",
    "This notebook explores PDF parsing using pymupdf for the workspace creation phase.\n",
    "\n",
    "## Goals:\n",
    "- Parse PDF into pages\n",
    "- Extract text blocks with bounding boxes\n",
    "- Extract tables\n",
    "- Extract figures/images with bounding boxes\n",
    "- Build section hierarchy"
   ]
  },
  {
   "cell_type": "code",
   "execution_count": 1,
   "metadata": {},
   "outputs": [],
   "source": [
    "import pymupdf\n",
    "from pathlib import Path\n",
    "import json"
   ]
  },
  {
   "cell_type": "markdown",
   "metadata": {},
   "source": [
    "## Load PDF"
   ]
  },
  {
   "cell_type": "code",
   "execution_count": 2,
   "metadata": {},
   "outputs": [
    {
     "name": "stdout",
     "output_type": "stream",
     "text": [
      "Number of pages: 95\n",
      "Metadata: {'format': 'PDF 1.4', 'title': 'gutenberg.org/cache/epub/33870/pg33870.txt', 'author': '', 'subject': '', 'keywords': '', 'creator': 'Mozilla/5.0 (Macintosh; Intel Mac OS X 10_15_7) AppleWebKit/537.36 (KHTML, like Gecko) Chrome/140.0.0.0 Safari/537.36', 'producer': 'Skia/PDF m140', 'creationDate': \"D:20251002094832+00'00'\", 'modDate': \"D:20251002094832+00'00'\", 'trapped': '', 'encryption': None}\n"
     ]
    }
   ],
   "source": [
    "pdf_path = Path(\"../resources/chess.pdf\")\n",
    "doc = pymupdf.open(pdf_path)\n",
    "\n",
    "print(f\"Number of pages: {len(doc)}\")\n",
    "print(f\"Metadata: {doc.metadata}\")"
   ]
  },
  {
   "cell_type": "markdown",
   "metadata": {},
   "source": [
    "## Extract Text Blocks from First Page\n",
    "\n",
    "Text blocks include bounding boxes (x0, y0, x1, y1), font info, and text content."
   ]
  },
  {
   "cell_type": "code",
   "execution_count": null,
   "metadata": {},
   "outputs": [],
   "source": [
    "page = doc[0]\n",
    "blocks = page.get_text(\"dict\")[\"blocks\"]\n",
    "\n",
    "print(f\"Total blocks on page 0: {len(blocks)}\")\n",
    "print(\"\\nFirst 3 blocks:\")\n",
    "for i, block in enumerate(blocks[:3]):\n",
    "    print(f\"\\nBlock {i}:\")\n",
    "    print(json.dumps(block, indent=2, default=str))"
   ]
  },
  {
   "cell_type": "markdown",
   "metadata": {},
   "source": [
    "## Extract Text with Bounding Boxes"
   ]
  },
  {
   "cell_type": "code",
   "execution_count": 4,
   "metadata": {},
   "outputs": [
    {
     "name": "stdout",
     "output_type": "stream",
     "text": [
      "Extracted 22 text blocks\n",
      "\n",
      "First text block:\n",
      "{\n",
      "  \"block_id\": 0,\n",
      "  \"bbox\": [\n",
      "    33.75,\n",
      "    37.4498291015625,\n",
      "    456.353759765625,\n",
      "    138.7994384765625\n",
      "  ],\n",
      "  \"text\": \"The Project Gutenberg eBook of Chess Fundamentals\\n    \\nThis ebook is for the use of anyone anywhere in the United States and\\nmost other parts of the world at no cost and with almost no restrictions\\nwhatsoever. You may copy it, give it away or re-use it under the terms\\nof the Project Gutenberg License included with this ebook or online\\nat www.gutenberg.org. If you are not located in the United States,\\nyou will have to check the laws of the country where you are located\\nbefore using this eBook.\"\n",
      "}\n"
     ]
    }
   ],
   "source": [
    "def extract_text_blocks(page):\n",
    "    \"\"\"Extract text blocks with bounding boxes from a page.\"\"\"\n",
    "    text_blocks = []\n",
    "    blocks = page.get_text(\"dict\")[\"blocks\"]\n",
    "    \n",
    "    for block_idx, block in enumerate(blocks):\n",
    "        if block[\"type\"] == 0:  # text block\n",
    "            bbox = block[\"bbox\"]\n",
    "            text = \"\"\n",
    "            for line in block.get(\"lines\", []):\n",
    "                for span in line.get(\"spans\", []):\n",
    "                    text += span[\"text\"]\n",
    "                text += \"\\n\"\n",
    "            \n",
    "            text_blocks.append({\n",
    "                \"block_id\": block_idx,\n",
    "                \"bbox\": bbox,\n",
    "                \"text\": text.strip()\n",
    "            })\n",
    "    \n",
    "    return text_blocks\n",
    "\n",
    "# Test on first page\n",
    "text_blocks = extract_text_blocks(page)\n",
    "print(f\"Extracted {len(text_blocks)} text blocks\")\n",
    "print(\"\\nFirst text block:\")\n",
    "print(json.dumps(text_blocks[0], indent=2))"
   ]
  },
  {
   "cell_type": "markdown",
   "metadata": {},
   "source": [
    "## Extract Images/Figures"
   ]
  },
  {
   "cell_type": "code",
   "execution_count": 5,
   "metadata": {},
   "outputs": [
    {
     "name": "stdout",
     "output_type": "stream",
     "text": [
      "Extracted 0 images\n"
     ]
    }
   ],
   "source": [
    "def extract_images(page, page_num):\n",
    "    \"\"\"Extract images with bounding boxes from a page.\"\"\"\n",
    "    images = []\n",
    "    image_list = page.get_images()\n",
    "    \n",
    "    for img_idx, img in enumerate(image_list):\n",
    "        xref = img[0]\n",
    "        # Get image bounding box\n",
    "        img_rects = page.get_image_rects(xref)\n",
    "        \n",
    "        for rect in img_rects:\n",
    "            images.append({\n",
    "                \"image_id\": f\"page_{page_num}_img_{img_idx}\",\n",
    "                \"xref\": xref,\n",
    "                \"bbox\": tuple(rect),\n",
    "                \"page\": page_num\n",
    "            })\n",
    "    \n",
    "    return images\n",
    "\n",
    "# Test on first page\n",
    "images = extract_images(page, 0)\n",
    "print(f\"Extracted {len(images)} images\")\n",
    "if images:\n",
    "    print(\"\\nFirst image:\")\n",
    "    print(json.dumps(images[0], indent=2, default=str))"
   ]
  },
  {
   "cell_type": "markdown",
   "metadata": {},
   "source": [
    "## Detect Tables\n",
    "\n",
    "PyMuPDF has built-in table detection capabilities."
   ]
  },
  {
   "cell_type": "code",
   "execution_count": 6,
   "metadata": {},
   "outputs": [
    {
     "name": "stdout",
     "output_type": "stream",
     "text": [
      "Extracted 0 tables\n"
     ]
    }
   ],
   "source": [
    "def extract_tables(page, page_num):\n",
    "    \"\"\"Extract tables from a page.\"\"\"\n",
    "    tables = []\n",
    "    table_finder = page.find_tables()\n",
    "    \n",
    "    for table_idx, table in enumerate(table_finder.tables):\n",
    "        tables.append({\n",
    "            \"table_id\": f\"page_{page_num}_table_{table_idx}\",\n",
    "            \"bbox\": tuple(table.bbox),\n",
    "            \"rows\": table.row_count,\n",
    "            \"cols\": table.col_count,\n",
    "            \"data\": table.extract(),\n",
    "            \"page\": page_num\n",
    "        })\n",
    "    \n",
    "    return tables\n",
    "\n",
    "# Test on first page\n",
    "tables = extract_tables(page, 0)\n",
    "print(f\"Extracted {len(tables)} tables\")\n",
    "if tables:\n",
    "    print(\"\\nFirst table:\")\n",
    "    print(json.dumps(tables[0], indent=2, default=str))"
   ]
  },
  {
   "cell_type": "markdown",
   "metadata": {},
   "source": [
    "## Process All Pages"
   ]
  },
  {
   "cell_type": "code",
   "execution_count": 7,
   "metadata": {},
   "outputs": [
    {
     "name": "stdout",
     "output_type": "stream",
     "text": [
      "Document parsed successfully!\n",
      "Total pages: 95\n",
      "Total text blocks: 1943\n",
      "Total images: 0\n",
      "Total tables: 0\n"
     ]
    }
   ],
   "source": [
    "def parse_document(doc):\n",
    "    \"\"\"Parse entire document extracting all units.\"\"\"\n",
    "    workspace = {\n",
    "        \"doc_id\": \"chess_pdf\",\n",
    "        \"num_pages\": len(doc),\n",
    "        \"pages\": []\n",
    "    }\n",
    "    \n",
    "    for page_num in range(len(doc)):\n",
    "        page = doc[page_num]\n",
    "        \n",
    "        page_data = {\n",
    "            \"page_num\": page_num,\n",
    "            \"text_blocks\": extract_text_blocks(page),\n",
    "            \"images\": extract_images(page, page_num),\n",
    "            \"tables\": extract_tables(page, page_num)\n",
    "        }\n",
    "        \n",
    "        workspace[\"pages\"].append(page_data)\n",
    "    \n",
    "    return workspace\n",
    "\n",
    "# Parse the full document\n",
    "workspace = parse_document(doc)\n",
    "\n",
    "# Summary stats\n",
    "total_text_blocks = sum(len(p[\"text_blocks\"]) for p in workspace[\"pages\"])\n",
    "total_images = sum(len(p[\"images\"]) for p in workspace[\"pages\"])\n",
    "total_tables = sum(len(p[\"tables\"]) for p in workspace[\"pages\"])\n",
    "\n",
    "print(f\"Document parsed successfully!\")\n",
    "print(f\"Total pages: {workspace['num_pages']}\")\n",
    "print(f\"Total text blocks: {total_text_blocks}\")\n",
    "print(f\"Total images: {total_images}\")\n",
    "print(f\"Total tables: {total_tables}\")"
   ]
  },
  {
   "cell_type": "markdown",
   "metadata": {},
   "source": [
    "## Inspect Sample Page"
   ]
  },
  {
   "cell_type": "code",
   "execution_count": 8,
   "metadata": {},
   "outputs": [
    {
     "name": "stdout",
     "output_type": "stream",
     "text": [
      "Page 0 has:\n",
      "  - 22 text blocks\n",
      "  - 0 images\n",
      "  - 0 tables\n",
      "\n",
      "First text block content:\n",
      "The Project Gutenberg eBook of Chess Fundamentals\n",
      "    \n",
      "This ebook is for the use of anyone anywhere in the United States and\n",
      "most other parts of the world at no cost and with almost no restrictions\n",
      "wh...\n"
     ]
    }
   ],
   "source": [
    "# Look at page 0 in detail\n",
    "sample_page = workspace[\"pages\"][0]\n",
    "print(f\"Page 0 has:\")\n",
    "print(f\"  - {len(sample_page['text_blocks'])} text blocks\")\n",
    "print(f\"  - {len(sample_page['images'])} images\")\n",
    "print(f\"  - {len(sample_page['tables'])} tables\")\n",
    "print(\"\\nFirst text block content:\")\n",
    "print(sample_page[\"text_blocks\"][0][\"text\"][:200] + \"...\")"
   ]
  },
  {
   "cell_type": "markdown",
   "metadata": {},
   "source": [
    "## Next Steps\n",
    "\n",
    "- Build section hierarchy from headings (font size analysis)\n",
    "- Generate unit IDs and content hashes\n",
    "- Store in database (SQLite)\n",
    "- Create full-text search index\n",
    "- Add metadata (image captions, table surrogates)"
   ]
  }
 ],
 "metadata": {
  "kernelspec": {
   "display_name": "hack-large-text-ASlkIg2G-py3.12",
   "language": "python",
   "name": "python3"
  },
  "language_info": {
   "codemirror_mode": {
    "name": "ipython",
    "version": 3
   },
   "file_extension": ".py",
   "mimetype": "text/x-python",
   "name": "python",
   "nbconvert_exporter": "python",
   "pygments_lexer": "ipython3",
   "version": "3.12.11"
  }
 },
 "nbformat": 4,
 "nbformat_minor": 2
}
