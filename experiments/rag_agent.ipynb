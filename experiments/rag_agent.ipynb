{
 "cells": [
  {
   "cell_type": "code",
   "execution_count": 3,
   "id": "892cd2f0",
   "metadata": {},
   "outputs": [],
   "source": [
    "class QueryUnderstanding(dspy.Signature):\n",
    "    \"\"\"Expand user question into retrievable terms and a search plan.\"\"\"\n",
    "    question = dspy.InputField(desc=\"The user’s natural language question\")\n",
    "    search_terms = dspy.OutputField(desc=\"Keywords or expanded query for retrieval\")\n",
    "    search_plan = dspy.OutputField(desc=\"Description of which retrieval strategies to use\")\n",
    "\n",
    "class EvidenceSelection(dspy.Signature):\n",
    "    \"\"\"Select the most relevant evidence from retrieved units.\"\"\"\n",
    "    question = dspy.InputField(desc=\"The user’s question\")\n",
    "    candidates = dspy.InputField(desc=\"List of candidate text snippet strings\")\n",
    "    selected = dspy.OutputField(desc=\"List of the most relevant snippet strings\")\n",
    "\n",
    "class AnswerSynthesis(dspy.Signature):\n",
    "    \"\"\"Compose final answer with inline citations and JSON anchors.\"\"\"\n",
    "    question = dspy.InputField(desc=\"The user’s question\")\n",
    "    evidence = dspy.InputField(desc=\"List of selected evidence snippets\")\n",
    "    answer_text = dspy.OutputField(desc=\"Generated natural-language answer\")\n",
    "    citations_json = dspy.OutputField(desc=\"List of anchors/citation metadata\")"
   ]
  },
  {
   "cell_type": "code",
   "execution_count": null,
   "id": "262020aa",
   "metadata": {},
   "outputs": [],
   "source": [
    "# --- Agent / Module ---\n",
    "class WorkspaceAgent(dspy.Module):\n",
    "    def __init__(self, retriever):\n",
    "        super().__init__()\n",
    "        self.retriever = retriever  # your DB / index backend\n",
    "        self.understand = dspy.Predict(QueryUnderstanding)\n",
    "        self.select = dspy.Predict(EvidenceSelection)\n",
    "        self.synthesize = dspy.Predict(AnswerSynthesis)\n",
    "\n",
    "    def forward(self, question: str):\n",
    "        # 1. Query → retrieval plan\n",
    "        q_resp = self.understand(question=question)\n",
    "        search_terms = q_resp.search_terms\n",
    "        search_plan = q_resp.search_plan\n",
    "\n",
    "        # 2. Fetch candidate units\n",
    "        candidates = []\n",
    "        candidates += self.retriever.search_text(search_terms)\n",
    "        candidates += self.retriever.search_tables(search_terms)\n",
    "        candidates += self.retriever.search_images(search_terms)\n",
    "\n",
    "        # Prepare candidate strings for the LLM\n",
    "        candidate_strs = [\n",
    "            f\"[{c['unit_id']}] {c['content']} (p. {c['page']}, section {c.get('section_path','')})\"\n",
    "            for c in candidates\n",
    "        ]\n",
    "\n",
    "        # 3. Evidence selection\n",
    "        sel_resp = self.select(question=question, candidates=candidate_strs)\n",
    "        selected_snippets = sel_resp.selected\n",
    "\n",
    "        # 4. Answer synthesis\n",
    "        ans_resp = self.synthesize(question=question, evidence=selected_snippets)\n",
    "        return {\n",
    "            \"answer\": ans_resp.answer_text,\n",
    "            \"citations\": ans_resp.citations_json\n",
    "        }"
   ]
  },
  {
   "cell_type": "code",
   "execution_count": null,
   "id": "6e2d6b7b",
   "metadata": {},
   "outputs": [],
   "source": [
    "# --- Retriever stub for testing ---\n",
    "class MockRetriever:\n",
    "    def search_text(self, terms):\n",
    "        return [\n",
    "            {\n",
    "                \"unit_id\": \"block_123\",\n",
    "                \"doc_id\": \"manual_v1\",\n",
    "                \"page\": 47,\n",
    "                \"bbox\": [100, 200, 400, 250],\n",
    "                \"section_path\": \"2.3 Warranty\",\n",
    "                \"content\": \"Exclusions: Damage from misuse, accidents, or modifications...\"\n",
    "            }\n",
    "        ]\n",
    "\n",
    "    def search_tables(self, terms):\n",
    "        return []\n",
    "\n",
    "    def search_images(self, terms):\n",
    "        return []"
   ]
  },
  {
   "cell_type": "code",
   "execution_count": null,
   "id": "fbe1cae1",
   "metadata": {},
   "outputs": [],
   "source": [
    "retriever = MockRetriever()\n",
    "agent = WorkspaceAgent(retriever)\n",
    "\n",
    "resp = agent(\"What are the warranty exclusions in the manual?\")\n",
    "print(\"Answer:\", resp[\"answer\"])\n",
    "print(\"Citations:\", resp[\"citations\"])"
   ]
  }
 ],
 "metadata": {
  "kernelspec": {
   "display_name": "hack-large-text-8l6Qp4Kf-py3.11",
   "language": "python",
   "name": "python3"
  },
  "language_info": {
   "codemirror_mode": {
    "name": "ipython",
    "version": 3
   },
   "file_extension": ".py",
   "mimetype": "text/x-python",
   "name": "python",
   "nbconvert_exporter": "python",
   "pygments_lexer": "ipython3",
   "version": "3.11.7"
  }
 },
 "nbformat": 4,
 "nbformat_minor": 5
}
